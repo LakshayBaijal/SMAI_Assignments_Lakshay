{
  "nbformat": 4,
  "nbformat_minor": 0,
  "metadata": {
    "colab": {
      "provenance": [],
      "gpuType": "T4"
    },
    "kernelspec": {
      "name": "python3",
      "display_name": "Python 3"
    },
    "language_info": {
      "name": "python"
    },
    "accelerator": "GPU"
  },
  "cells": [
    {
      "cell_type": "code",
      "execution_count": 1,
      "metadata": {
        "id": "FUEfQxR9JCdq",
        "colab": {
          "base_uri": "https://localhost:8080/"
        },
        "outputId": "df3989e5-7238-44a9-dcc6-96e01e82730c"
      },
      "outputs": [
        {
          "output_type": "stream",
          "name": "stdout",
          "text": [
            "Mounted at /content/drive\n",
            "Using device: cuda\n"
          ]
        }
      ],
      "source": [
        "from google.colab import drive\n",
        "drive.mount('/content/drive', force_remount=True)\n",
        "\n",
        "import os, glob\n",
        "from PIL import Image\n",
        "import torch\n",
        "import torch.nn as nn\n",
        "import torch.optim as optim\n",
        "from torch.utils.data import DataLoader, Dataset, random_split\n",
        "from torchvision import transforms, models\n",
        "from torchvision.datasets import ImageFolder\n",
        "import wandb\n",
        "import pandas as pd\n",
        "\n",
        "device = torch.device(\"cuda\" if torch.cuda.is_available() else \"cpu\")\n",
        "print(\"Using device:\", device)\n"
      ]
    },
    {
      "cell_type": "code",
      "source": [
        "# !pip install -q wandb\n",
        "# import wandb\n",
        "# wandb.login()"
      ],
      "metadata": {
        "id": "QYlhRn6Tdupr"
      },
      "execution_count": 2,
      "outputs": []
    },
    {
      "cell_type": "code",
      "source": [
        "wandb.login()\n",
        "\n",
        "num_epochs      = 10\n",
        "batch_size      = 32\n",
        "learning_rate   = 1e-4\n",
        "data_dir        = '/content/drive/MyDrive/smai_a2/dataset/data'\n",
        "test_dir        = '/content/drive/MyDrive/smai_a2/dataset/test_challenge'\n",
        "\n",
        "wandb.init(\n",
        "    project=\"smai-assignment2\",\n",
        "    name=\"vggface-part1\",\n",
        "    config={\n",
        "        \"model\": \"VGG16-finetune\",\n",
        "        \"epochs\": num_epochs,\n",
        "        \"batch_size\": batch_size,\n",
        "        \"learning_rate\": learning_rate\n",
        "    }\n",
        ")\n",
        "config = wandb.config\n"
      ],
      "metadata": {
        "id": "fg7SXHR4iOIt",
        "outputId": "a436eb3c-8a0c-4911-eb59-c7796bae8b7e",
        "colab": {
          "base_uri": "https://localhost:8080/",
          "height": 277
        }
      },
      "execution_count": 3,
      "outputs": [
        {
          "output_type": "stream",
          "name": "stderr",
          "text": [
            "\u001b[34m\u001b[1mwandb\u001b[0m: Using wandb-core as the SDK backend.  Please refer to https://wandb.me/wandb-core for more information.\n"
          ]
        },
        {
          "output_type": "display_data",
          "data": {
            "text/plain": [
              "<IPython.core.display.Javascript object>"
            ],
            "application/javascript": [
              "\n",
              "        window._wandbApiKey = new Promise((resolve, reject) => {\n",
              "            function loadScript(url) {\n",
              "            return new Promise(function(resolve, reject) {\n",
              "                let newScript = document.createElement(\"script\");\n",
              "                newScript.onerror = reject;\n",
              "                newScript.onload = resolve;\n",
              "                document.body.appendChild(newScript);\n",
              "                newScript.src = url;\n",
              "            });\n",
              "            }\n",
              "            loadScript(\"https://cdn.jsdelivr.net/npm/postmate/build/postmate.min.js\").then(() => {\n",
              "            const iframe = document.createElement('iframe')\n",
              "            iframe.style.cssText = \"width:0;height:0;border:none\"\n",
              "            document.body.appendChild(iframe)\n",
              "            const handshake = new Postmate({\n",
              "                container: iframe,\n",
              "                url: 'https://wandb.ai/authorize'\n",
              "            });\n",
              "            const timeout = setTimeout(() => reject(\"Couldn't auto authenticate\"), 5000)\n",
              "            handshake.then(function(child) {\n",
              "                child.on('authorize', data => {\n",
              "                    clearTimeout(timeout)\n",
              "                    resolve(data)\n",
              "                });\n",
              "            });\n",
              "            })\n",
              "        });\n",
              "    "
            ]
          },
          "metadata": {}
        },
        {
          "output_type": "stream",
          "name": "stderr",
          "text": [
            "\u001b[34m\u001b[1mwandb\u001b[0m: Logging into wandb.ai. (Learn how to deploy a W&B server locally: https://wandb.me/wandb-server)\n",
            "\u001b[34m\u001b[1mwandb\u001b[0m: You can find your API key in your browser here: https://wandb.ai/authorize\n",
            "wandb: Paste an API key from your profile and hit enter:"
          ]
        },
        {
          "name": "stdout",
          "output_type": "stream",
          "text": [
            " ··········\n"
          ]
        },
        {
          "output_type": "stream",
          "name": "stderr",
          "text": [
            "\u001b[34m\u001b[1mwandb\u001b[0m: \u001b[33mWARNING\u001b[0m If you're specifying your api key in code, ensure this code is not shared publicly.\n",
            "\u001b[34m\u001b[1mwandb\u001b[0m: \u001b[33mWARNING\u001b[0m Consider setting the WANDB_API_KEY environment variable, or running `wandb login` from the command line.\n",
            "\u001b[34m\u001b[1mwandb\u001b[0m: No netrc file found, creating one.\n",
            "\u001b[34m\u001b[1mwandb\u001b[0m: Appending key for api.wandb.ai to your netrc file: /root/.netrc\n",
            "\u001b[34m\u001b[1mwandb\u001b[0m: Currently logged in as: \u001b[33mlakshaybaijal\u001b[0m (\u001b[33mlakshaybaijal-iiit-hyderabad\u001b[0m) to \u001b[32mhttps://api.wandb.ai\u001b[0m. Use \u001b[1m`wandb login --relogin`\u001b[0m to force relogin\n"
          ]
        },
        {
          "output_type": "display_data",
          "data": {
            "text/plain": [
              "<IPython.core.display.HTML object>"
            ],
            "text/html": [
              "Tracking run with wandb version 0.19.9"
            ]
          },
          "metadata": {}
        },
        {
          "output_type": "display_data",
          "data": {
            "text/plain": [
              "<IPython.core.display.HTML object>"
            ],
            "text/html": [
              "Run data is saved locally in <code>/content/wandb/run-20250423_172203-kuni52lp</code>"
            ]
          },
          "metadata": {}
        },
        {
          "output_type": "display_data",
          "data": {
            "text/plain": [
              "<IPython.core.display.HTML object>"
            ],
            "text/html": [
              "Syncing run <strong><a href='https://wandb.ai/lakshaybaijal-iiit-hyderabad/smai-assignment2/runs/kuni52lp' target=\"_blank\">vggface-part1</a></strong> to <a href='https://wandb.ai/lakshaybaijal-iiit-hyderabad/smai-assignment2' target=\"_blank\">Weights & Biases</a> (<a href='https://wandb.me/developer-guide' target=\"_blank\">docs</a>)<br>"
            ]
          },
          "metadata": {}
        },
        {
          "output_type": "display_data",
          "data": {
            "text/plain": [
              "<IPython.core.display.HTML object>"
            ],
            "text/html": [
              " View project at <a href='https://wandb.ai/lakshaybaijal-iiit-hyderabad/smai-assignment2' target=\"_blank\">https://wandb.ai/lakshaybaijal-iiit-hyderabad/smai-assignment2</a>"
            ]
          },
          "metadata": {}
        },
        {
          "output_type": "display_data",
          "data": {
            "text/plain": [
              "<IPython.core.display.HTML object>"
            ],
            "text/html": [
              " View run at <a href='https://wandb.ai/lakshaybaijal-iiit-hyderabad/smai-assignment2/runs/kuni52lp' target=\"_blank\">https://wandb.ai/lakshaybaijal-iiit-hyderabad/smai-assignment2/runs/kuni52lp</a>"
            ]
          },
          "metadata": {}
        }
      ]
    },
    {
      "cell_type": "code",
      "source": [
        "train_tfms = transforms.Compose([\n",
        "    transforms.Resize((224,224)),\n",
        "    transforms.RandomHorizontalFlip(),\n",
        "    transforms.RandomRotation(15),\n",
        "    transforms.ColorJitter(brightness=0.2, contrast=0.2),\n",
        "    transforms.ToTensor(),\n",
        "    transforms.Normalize([0.485,0.456,0.406],\n",
        "                         [0.229,0.224,0.225]),\n",
        "])\n",
        "val_tfms = transforms.Compose([\n",
        "    transforms.Resize((224,224)),\n",
        "    transforms.ToTensor(),\n",
        "    transforms.Normalize([0.485,0.456,0.406],\n",
        "                         [0.229,0.224,0.225]),\n",
        "])\n",
        "\n",
        "full_ds = ImageFolder(data_dir, transform=train_tfms)\n",
        "n_total = len(full_ds)\n",
        "n_train = int(0.8 * n_total)\n",
        "n_val   = n_total - n_train\n",
        "train_ds, val_ds = random_split(full_ds, [n_train, n_val])\n",
        "\n",
        "train_loader = DataLoader(train_ds, batch_size=config.batch_size, shuffle=True,  num_workers=2)\n",
        "val_loader   = DataLoader(val_ds,   batch_size=config.batch_size, shuffle=False, num_workers=2)\n",
        "\n",
        "print(f\"Train size: {len(train_ds)}, Val size: {len(val_ds)}\")\n",
        "print(\"Classes:\", full_ds.classes)\n"
      ],
      "metadata": {
        "id": "xyLry34ZlsYN",
        "colab": {
          "base_uri": "https://localhost:8080/"
        },
        "outputId": "b13ad98d-56bb-4426-c708-c4ed127880e4"
      },
      "execution_count": 4,
      "outputs": [
        {
          "output_type": "stream",
          "name": "stdout",
          "text": [
            "Train size: 860, Val size: 216\n",
            "Classes: ['face', 'non_face']\n"
          ]
        }
      ]
    },
    {
      "cell_type": "code",
      "source": [
        "model = models.vgg16(pretrained=True)\n",
        "for p in model.features.parameters():\n",
        "    p.requires_grad = False\n",
        "\n",
        "in_feats = model.classifier[6].in_features\n",
        "model.classifier[6] = nn.Linear(in_feats, 2)\n",
        "model = model.to(device)\n",
        "\n",
        "criterion = nn.CrossEntropyLoss()\n",
        "optimizer = optim.Adam(model.classifier[6].parameters(), lr=config.learning_rate)\n",
        "\n",
        "wandb.watch(model, log=\"all\", log_freq=10)\n"
      ],
      "metadata": {
        "id": "kLtm90q8l_Sz",
        "colab": {
          "base_uri": "https://localhost:8080/"
        },
        "outputId": "fade7dba-3f0c-4598-ccad-d6747d1b8122"
      },
      "execution_count": 5,
      "outputs": [
        {
          "output_type": "stream",
          "name": "stderr",
          "text": [
            "/usr/local/lib/python3.11/dist-packages/torchvision/models/_utils.py:208: UserWarning: The parameter 'pretrained' is deprecated since 0.13 and may be removed in the future, please use 'weights' instead.\n",
            "  warnings.warn(\n",
            "/usr/local/lib/python3.11/dist-packages/torchvision/models/_utils.py:223: UserWarning: Arguments other than a weight enum or `None` for 'weights' are deprecated since 0.13 and may be removed in the future. The current behavior is equivalent to passing `weights=VGG16_Weights.IMAGENET1K_V1`. You can also use `weights=VGG16_Weights.DEFAULT` to get the most up-to-date weights.\n",
            "  warnings.warn(msg)\n",
            "Downloading: \"https://download.pytorch.org/models/vgg16-397923af.pth\" to /root/.cache/torch/hub/checkpoints/vgg16-397923af.pth\n",
            "100%|██████████| 528M/528M [00:04<00:00, 132MB/s]\n"
          ]
        }
      ]
    },
    {
      "cell_type": "markdown",
      "source": [
        "**VGG FACE**"
      ],
      "metadata": {
        "id": "hytf1WBHXki2"
      }
    },
    {
      "cell_type": "code",
      "source": [
        "def train_epoch(model, loader, optimizer, criterion):\n",
        "    model.train()\n",
        "    total_loss = correct = total = 0\n",
        "    for imgs, labels in loader:\n",
        "        imgs, labels = imgs.to(device), labels.to(device)\n",
        "        optimizer.zero_grad()\n",
        "        outputs = model(imgs)\n",
        "        loss = criterion(outputs, labels)\n",
        "        loss.backward()\n",
        "        optimizer.step()\n",
        "        total_loss += loss.item() * imgs.size(0)\n",
        "        preds = outputs.argmax(dim=1)\n",
        "        correct += (preds == labels).sum().item()\n",
        "        total += labels.size(0)\n",
        "    return total_loss/total, correct/total\n",
        "\n",
        "def eval_epoch(model, loader, criterion):\n",
        "    model.eval()\n",
        "    total_loss = correct = total = 0\n",
        "    with torch.no_grad():\n",
        "        for imgs, labels in loader:\n",
        "            imgs, labels = imgs.to(device), labels.to(device)\n",
        "            outputs = model(imgs)\n",
        "            loss    = criterion(outputs, labels)\n",
        "            total_loss += loss.item() * imgs.size(0)\n",
        "            preds = outputs.argmax(dim=1)\n",
        "            correct += (preds == labels).sum().item()\n",
        "            total += labels.size(0)\n",
        "    return total_loss/total, correct/total\n",
        "\n",
        "for epoch in range(config.epochs):\n",
        "    train_loss, train_acc = train_epoch(model, train_loader, optimizer, criterion)\n",
        "    val_loss,   val_acc   = eval_epoch (model, val_loader,   criterion)\n",
        "\n",
        "    print(f\"[VGG FACE - Lakshay]Epoch {epoch+1}/{config.epochs} | \"\n",
        "          f\"Train Loss: {train_loss:.4f}, Acc: {train_acc:.4f} | \"\n",
        "          f\"Val   Loss: {val_loss:.4f}, Acc: {val_acc:.4f}\")\n",
        "\n",
        "    wandb.log({\n",
        "        \"epoch\": epoch+1,\n",
        "        \"train/loss\": train_loss,\n",
        "        \"train/accuracy\": train_acc,\n",
        "        \"val/loss\": val_loss,\n",
        "        \"val/accuracy\": val_acc\n",
        "    })\n"
      ],
      "metadata": {
        "id": "JcgW2KnAmYKW",
        "colab": {
          "base_uri": "https://localhost:8080/"
        },
        "outputId": "29e723f8-2f3b-4095-b228-ab2427fadb38"
      },
      "execution_count": 6,
      "outputs": [
        {
          "output_type": "stream",
          "name": "stdout",
          "text": [
            "[VGG FACE - Lakshay]Epoch 1/10 | Train Loss: 0.3884, Acc: 0.8512 | Val   Loss: 0.3607, Acc: 0.7824\n",
            "[VGG FACE - Lakshay]Epoch 2/10 | Train Loss: 0.2300, Acc: 0.9140 | Val   Loss: 0.2185, Acc: 0.9213\n",
            "[VGG FACE - Lakshay]Epoch 3/10 | Train Loss: 0.1544, Acc: 0.9651 | Val   Loss: 0.1644, Acc: 0.9398\n",
            "[VGG FACE - Lakshay]Epoch 4/10 | Train Loss: 0.1170, Acc: 0.9733 | Val   Loss: 0.1232, Acc: 0.9630\n",
            "[VGG FACE - Lakshay]Epoch 5/10 | Train Loss: 0.0909, Acc: 0.9837 | Val   Loss: 0.1094, Acc: 0.9676\n",
            "[VGG FACE - Lakshay]Epoch 6/10 | Train Loss: 0.0694, Acc: 0.9895 | Val   Loss: 0.0886, Acc: 0.9769\n",
            "[VGG FACE - Lakshay]Epoch 7/10 | Train Loss: 0.0619, Acc: 0.9895 | Val   Loss: 0.0790, Acc: 0.9769\n",
            "[VGG FACE - Lakshay]Epoch 8/10 | Train Loss: 0.0519, Acc: 0.9930 | Val   Loss: 0.0811, Acc: 0.9722\n",
            "[VGG FACE - Lakshay]Epoch 9/10 | Train Loss: 0.0454, Acc: 0.9953 | Val   Loss: 0.0625, Acc: 0.9907\n",
            "[VGG FACE - Lakshay]Epoch 10/10 | Train Loss: 0.0435, Acc: 0.9942 | Val   Loss: 0.0537, Acc: 0.9861\n"
          ]
        }
      ]
    },
    {
      "cell_type": "code",
      "source": [],
      "metadata": {
        "id": "bs4hyHJ95etk"
      },
      "execution_count": 6,
      "outputs": []
    },
    {
      "cell_type": "code",
      "source": [
        "class TestChallengeDataset(Dataset):\n",
        "    def __init__(self, folder, transform):\n",
        "        self.paths = sorted(glob.glob(os.path.join(folder, \"*\")))\n",
        "        self.transform = transform\n",
        "    def __len__(self):\n",
        "        return len(self.paths)\n",
        "    def __getitem__(self, idx):\n",
        "        p   = self.paths[idx]\n",
        "        img = Image.open(p).convert(\"RGB\")\n",
        "        img = self.transform(img) if self.transform else img\n",
        "        fname = os.path.basename(p)\n",
        "        return img, fname\n",
        "\n",
        "test_ds     = TestChallengeDataset(test_dir, transform=val_tfms)\n",
        "test_loader = DataLoader(test_ds, batch_size=config.batch_size,\n",
        "                         shuffle=False, num_workers=2)\n",
        "print(\"Unlabeled test count:\", len(test_ds))\n",
        "\n",
        "model.eval()\n",
        "results = []\n",
        "class_names = full_ds.classes\n",
        "with torch.no_grad():\n",
        "    for imgs, fnames in test_loader:\n",
        "        imgs    = imgs.to(device)\n",
        "        outputs = model(imgs)\n",
        "        preds   = outputs.argmax(dim=1).cpu()\n",
        "        for fn, p in zip(fnames, preds):\n",
        "            results.append({\"filename\": fn, \"prediction\": class_names[p]})\n",
        "\n",
        "table = wandb.Table(columns=[\"filename\",\"prediction\"], data=results[:20])\n",
        "wandb.log({\"test_challenge_predictions\": table})\n",
        "\n",
        "pd.DataFrame(results).to_csv(\"vgg_test_challenge_preds.csv\", index=False)\n",
        "print(\"Saved → vgg_test_challenge_preds.csv\")\n"
      ],
      "metadata": {
        "id": "OE7LB8HH7TaO",
        "colab": {
          "base_uri": "https://localhost:8080/"
        },
        "outputId": "4fe2f3a4-260f-41e2-94ab-8a13f0d1ca90"
      },
      "execution_count": 7,
      "outputs": [
        {
          "output_type": "stream",
          "name": "stdout",
          "text": [
            "Unlabeled test count: 37\n",
            "Saved → vgg_test_challenge_preds.csv\n"
          ]
        }
      ]
    },
    {
      "cell_type": "markdown",
      "source": [],
      "metadata": {
        "id": "hKhhMVslXacn"
      }
    },
    {
      "cell_type": "code",
      "source": [
        "wandb.finish()\n",
        "from google.colab import files\n",
        "files.download('vgg_test_challenge_preds.csv')"
      ],
      "metadata": {
        "id": "vkRIurD-7VuI",
        "colab": {
          "base_uri": "https://localhost:8080/",
          "height": 490
        },
        "outputId": "6c362288-54f1-4b20-a87e-8972ec9ef9ce"
      },
      "execution_count": 8,
      "outputs": [
        {
          "output_type": "display_data",
          "data": {
            "text/plain": [
              "<IPython.core.display.HTML object>"
            ],
            "text/html": []
          },
          "metadata": {}
        },
        {
          "output_type": "display_data",
          "data": {
            "text/plain": [
              "<IPython.core.display.HTML object>"
            ],
            "text/html": [
              "<br>    <style><br>        .wandb-row {<br>            display: flex;<br>            flex-direction: row;<br>            flex-wrap: wrap;<br>            justify-content: flex-start;<br>            width: 100%;<br>        }<br>        .wandb-col {<br>            display: flex;<br>            flex-direction: column;<br>            flex-basis: 100%;<br>            flex: 1;<br>            padding: 10px;<br>        }<br>    </style><br><div class=\"wandb-row\"><div class=\"wandb-col\"><h3>Run history:</h3><br/><table class=\"wandb\"><tr><td>epoch</td><td>▁▂▃▃▄▅▆▆▇█</td></tr><tr><td>train/accuracy</td><td>▁▄▇▇▇█████</td></tr><tr><td>train/loss</td><td>█▅▃▂▂▂▁▁▁▁</td></tr><tr><td>val/accuracy</td><td>▁▆▆▇▇██▇██</td></tr><tr><td>val/loss</td><td>█▅▄▃▂▂▂▂▁▁</td></tr></table><br/></div><div class=\"wandb-col\"><h3>Run summary:</h3><br/><table class=\"wandb\"><tr><td>epoch</td><td>10</td></tr><tr><td>train/accuracy</td><td>0.99419</td></tr><tr><td>train/loss</td><td>0.0435</td></tr><tr><td>val/accuracy</td><td>0.98611</td></tr><tr><td>val/loss</td><td>0.05366</td></tr></table><br/></div></div>"
            ]
          },
          "metadata": {}
        },
        {
          "output_type": "display_data",
          "data": {
            "text/plain": [
              "<IPython.core.display.HTML object>"
            ],
            "text/html": [
              " View run <strong style=\"color:#cdcd00\">vggface-part1</strong> at: <a href='https://wandb.ai/lakshaybaijal-iiit-hyderabad/smai-assignment2/runs/kuni52lp' target=\"_blank\">https://wandb.ai/lakshaybaijal-iiit-hyderabad/smai-assignment2/runs/kuni52lp</a><br> View project at: <a href='https://wandb.ai/lakshaybaijal-iiit-hyderabad/smai-assignment2' target=\"_blank\">https://wandb.ai/lakshaybaijal-iiit-hyderabad/smai-assignment2</a><br>Synced 5 W&B file(s), 1 media file(s), 2 artifact file(s) and 0 other file(s)"
            ]
          },
          "metadata": {}
        },
        {
          "output_type": "display_data",
          "data": {
            "text/plain": [
              "<IPython.core.display.HTML object>"
            ],
            "text/html": [
              "Find logs at: <code>./wandb/run-20250423_172203-kuni52lp/logs</code>"
            ]
          },
          "metadata": {}
        },
        {
          "output_type": "display_data",
          "data": {
            "text/plain": [
              "<IPython.core.display.Javascript object>"
            ],
            "application/javascript": [
              "\n",
              "    async function download(id, filename, size) {\n",
              "      if (!google.colab.kernel.accessAllowed) {\n",
              "        return;\n",
              "      }\n",
              "      const div = document.createElement('div');\n",
              "      const label = document.createElement('label');\n",
              "      label.textContent = `Downloading \"${filename}\": `;\n",
              "      div.appendChild(label);\n",
              "      const progress = document.createElement('progress');\n",
              "      progress.max = size;\n",
              "      div.appendChild(progress);\n",
              "      document.body.appendChild(div);\n",
              "\n",
              "      const buffers = [];\n",
              "      let downloaded = 0;\n",
              "\n",
              "      const channel = await google.colab.kernel.comms.open(id);\n",
              "      // Send a message to notify the kernel that we're ready.\n",
              "      channel.send({})\n",
              "\n",
              "      for await (const message of channel.messages) {\n",
              "        // Send a message to notify the kernel that we're ready.\n",
              "        channel.send({})\n",
              "        if (message.buffers) {\n",
              "          for (const buffer of message.buffers) {\n",
              "            buffers.push(buffer);\n",
              "            downloaded += buffer.byteLength;\n",
              "            progress.value = downloaded;\n",
              "          }\n",
              "        }\n",
              "      }\n",
              "      const blob = new Blob(buffers, {type: 'application/binary'});\n",
              "      const a = document.createElement('a');\n",
              "      a.href = window.URL.createObjectURL(blob);\n",
              "      a.download = filename;\n",
              "      div.appendChild(a);\n",
              "      a.click();\n",
              "      div.remove();\n",
              "    }\n",
              "  "
            ]
          },
          "metadata": {}
        },
        {
          "output_type": "display_data",
          "data": {
            "text/plain": [
              "<IPython.core.display.Javascript object>"
            ],
            "application/javascript": [
              "download(\"download_92a4eaa1-cfd6-47c7-abf6-b52913a9a447\", \"vgg_test_challenge_preds.csv\", 1079)"
            ]
          },
          "metadata": {}
        }
      ]
    },
    {
      "cell_type": "code",
      "source": [],
      "metadata": {
        "id": "ayUP4_lz5vXH"
      },
      "execution_count": 8,
      "outputs": []
    },
    {
      "cell_type": "markdown",
      "source": [
        "**ResNet18 (not pretrained) Training + Inference + W&B + Download CSV**"
      ],
      "metadata": {
        "id": "UyFqTEHZbqBM"
      }
    },
    {
      "cell_type": "code",
      "source": [
        "\n",
        "import wandb\n",
        "from torchvision import models\n",
        "import torch.nn as nn, torch.optim as optim\n",
        "import pandas as pd\n",
        "\n",
        "wandb.init(\n",
        "    project=\"smai-assignment2\",\n",
        "    name=\"resnet18-scratch\",\n",
        "    config={\n",
        "        \"model\": \"ResNet18-scratch\",\n",
        "        \"epochs\": num_epochs,\n",
        "        \"batch_size\": batch_size,\n",
        "        \"learning_rate\": learning_rate\n",
        "    }\n",
        ")\n",
        "cfg = wandb.config\n",
        "\n",
        "model_rs = models.resnet18(pretrained=False)\n",
        "model_rs.fc = nn.Linear(model_rs.fc.in_features, 2)\n",
        "model_rs = model_rs.to(device)\n",
        "\n",
        "criterion = nn.CrossEntropyLoss()\n",
        "optimizer = optim.Adam(model_rs.parameters(), lr=cfg.learning_rate)\n",
        "\n",
        "wandb.watch(model_rs, log=\"all\", log_freq=10)\n",
        "\n",
        "for epoch in range(cfg.epochs):\n",
        "    tl, ta = train_epoch(model_rs, train_loader, optimizer, criterion)\n",
        "    vl, va = eval_epoch (model_rs, val_loader,   criterion)\n",
        "    print(f\"[ResNet18 not pretrained - Lakshay] Epoch {epoch+1}/{cfg.epochs}  \"\n",
        "          f\"Train loss={tl:.4f}, acc={ta:.4f} | \"\n",
        "          f\"Val   loss={vl:.4f}, acc={va:.4f}\")\n",
        "    wandb.log({\n",
        "        \"epoch\": epoch+1,\n",
        "        \"train/loss\": tl, \"train/accuracy\": ta,\n",
        "        \"val/loss\": vl,   \"val/accuracy\": va\n",
        "    })\n",
        "\n",
        "wandb.finish()\n",
        "\n",
        "model_rs.eval()\n",
        "results_rs = []\n",
        "with torch.no_grad():\n",
        "    for imgs, fnames in test_loader:\n",
        "        imgs = imgs.to(device)\n",
        "        outs = model_rs(imgs)\n",
        "        preds = outs.argmax(1).cpu()\n",
        "        for f, p in zip(fnames, preds):\n",
        "            results_rs.append({\"filename\": f, \"prediction\": full_ds.classes[p]})\n",
        "\n",
        "pd.DataFrame(results_rs).to_csv(\"resnet18_scratch_test_preds.csv\", index=False)\n",
        "from google.colab import files\n",
        "files.download(\"resnet18_scratch_test_preds.csv\")\n"
      ],
      "metadata": {
        "id": "_axC6Bleb5m_",
        "colab": {
          "base_uri": "https://localhost:8080/",
          "height": 805
        },
        "outputId": "3b47119c-0ce1-461d-d6f6-a09839b50c6a"
      },
      "execution_count": 9,
      "outputs": [
        {
          "output_type": "display_data",
          "data": {
            "text/plain": [
              "<IPython.core.display.HTML object>"
            ],
            "text/html": [
              "Tracking run with wandb version 0.19.9"
            ]
          },
          "metadata": {}
        },
        {
          "output_type": "display_data",
          "data": {
            "text/plain": [
              "<IPython.core.display.HTML object>"
            ],
            "text/html": [
              "Run data is saved locally in <code>/content/wandb/run-20250423_173153-dmigl8fc</code>"
            ]
          },
          "metadata": {}
        },
        {
          "output_type": "display_data",
          "data": {
            "text/plain": [
              "<IPython.core.display.HTML object>"
            ],
            "text/html": [
              "Syncing run <strong><a href='https://wandb.ai/lakshaybaijal-iiit-hyderabad/smai-assignment2/runs/dmigl8fc' target=\"_blank\">resnet18-scratch</a></strong> to <a href='https://wandb.ai/lakshaybaijal-iiit-hyderabad/smai-assignment2' target=\"_blank\">Weights & Biases</a> (<a href='https://wandb.me/developer-guide' target=\"_blank\">docs</a>)<br>"
            ]
          },
          "metadata": {}
        },
        {
          "output_type": "display_data",
          "data": {
            "text/plain": [
              "<IPython.core.display.HTML object>"
            ],
            "text/html": [
              " View project at <a href='https://wandb.ai/lakshaybaijal-iiit-hyderabad/smai-assignment2' target=\"_blank\">https://wandb.ai/lakshaybaijal-iiit-hyderabad/smai-assignment2</a>"
            ]
          },
          "metadata": {}
        },
        {
          "output_type": "display_data",
          "data": {
            "text/plain": [
              "<IPython.core.display.HTML object>"
            ],
            "text/html": [
              " View run at <a href='https://wandb.ai/lakshaybaijal-iiit-hyderabad/smai-assignment2/runs/dmigl8fc' target=\"_blank\">https://wandb.ai/lakshaybaijal-iiit-hyderabad/smai-assignment2/runs/dmigl8fc</a>"
            ]
          },
          "metadata": {}
        },
        {
          "output_type": "stream",
          "name": "stderr",
          "text": [
            "/usr/local/lib/python3.11/dist-packages/torchvision/models/_utils.py:223: UserWarning: Arguments other than a weight enum or `None` for 'weights' are deprecated since 0.13 and may be removed in the future. The current behavior is equivalent to passing `weights=None`.\n",
            "  warnings.warn(msg)\n"
          ]
        },
        {
          "output_type": "stream",
          "name": "stdout",
          "text": [
            "[ResNet18 not pretrained - Lakshay] Epoch 1/10  Train loss=0.2437, acc=0.8953 | Val   loss=0.7132, acc=0.8102\n",
            "[ResNet18 not pretrained - Lakshay] Epoch 2/10  Train loss=0.1171, acc=0.9663 | Val   loss=0.2709, acc=0.9120\n",
            "[ResNet18 not pretrained - Lakshay] Epoch 3/10  Train loss=0.0842, acc=0.9779 | Val   loss=0.1171, acc=0.9630\n",
            "[ResNet18 not pretrained - Lakshay] Epoch 4/10  Train loss=0.0710, acc=0.9791 | Val   loss=0.0200, acc=0.9907\n",
            "[ResNet18 not pretrained - Lakshay] Epoch 5/10  Train loss=0.0246, acc=0.9965 | Val   loss=0.1027, acc=0.9676\n",
            "[ResNet18 not pretrained - Lakshay] Epoch 6/10  Train loss=0.0321, acc=0.9884 | Val   loss=0.0186, acc=0.9954\n",
            "[ResNet18 not pretrained - Lakshay] Epoch 7/10  Train loss=0.0231, acc=0.9942 | Val   loss=0.0054, acc=1.0000\n",
            "[ResNet18 not pretrained - Lakshay] Epoch 8/10  Train loss=0.0094, acc=0.9977 | Val   loss=0.0879, acc=0.9630\n",
            "[ResNet18 not pretrained - Lakshay] Epoch 9/10  Train loss=0.0141, acc=0.9953 | Val   loss=0.0120, acc=1.0000\n",
            "[ResNet18 not pretrained - Lakshay] Epoch 10/10  Train loss=0.0107, acc=0.9965 | Val   loss=0.0116, acc=0.9907\n"
          ]
        },
        {
          "output_type": "display_data",
          "data": {
            "text/plain": [
              "<IPython.core.display.HTML object>"
            ],
            "text/html": []
          },
          "metadata": {}
        },
        {
          "output_type": "display_data",
          "data": {
            "text/plain": [
              "<IPython.core.display.HTML object>"
            ],
            "text/html": [
              "<br>    <style><br>        .wandb-row {<br>            display: flex;<br>            flex-direction: row;<br>            flex-wrap: wrap;<br>            justify-content: flex-start;<br>            width: 100%;<br>        }<br>        .wandb-col {<br>            display: flex;<br>            flex-direction: column;<br>            flex-basis: 100%;<br>            flex: 1;<br>            padding: 10px;<br>        }<br>    </style><br><div class=\"wandb-row\"><div class=\"wandb-col\"><h3>Run history:</h3><br/><table class=\"wandb\"><tr><td>epoch</td><td>▁▂▃▃▄▅▆▆▇█</td></tr><tr><td>train/accuracy</td><td>▁▆▇▇█▇████</td></tr><tr><td>train/loss</td><td>█▄▃▃▁▂▁▁▁▁</td></tr><tr><td>val/accuracy</td><td>▁▅▇█▇██▇██</td></tr><tr><td>val/loss</td><td>█▄▂▁▂▁▁▂▁▁</td></tr></table><br/></div><div class=\"wandb-col\"><h3>Run summary:</h3><br/><table class=\"wandb\"><tr><td>epoch</td><td>10</td></tr><tr><td>train/accuracy</td><td>0.99651</td></tr><tr><td>train/loss</td><td>0.01067</td></tr><tr><td>val/accuracy</td><td>0.99074</td></tr><tr><td>val/loss</td><td>0.01162</td></tr></table><br/></div></div>"
            ]
          },
          "metadata": {}
        },
        {
          "output_type": "display_data",
          "data": {
            "text/plain": [
              "<IPython.core.display.HTML object>"
            ],
            "text/html": [
              " View run <strong style=\"color:#cdcd00\">resnet18-scratch</strong> at: <a href='https://wandb.ai/lakshaybaijal-iiit-hyderabad/smai-assignment2/runs/dmigl8fc' target=\"_blank\">https://wandb.ai/lakshaybaijal-iiit-hyderabad/smai-assignment2/runs/dmigl8fc</a><br> View project at: <a href='https://wandb.ai/lakshaybaijal-iiit-hyderabad/smai-assignment2' target=\"_blank\">https://wandb.ai/lakshaybaijal-iiit-hyderabad/smai-assignment2</a><br>Synced 5 W&B file(s), 0 media file(s), 0 artifact file(s) and 0 other file(s)"
            ]
          },
          "metadata": {}
        },
        {
          "output_type": "display_data",
          "data": {
            "text/plain": [
              "<IPython.core.display.HTML object>"
            ],
            "text/html": [
              "Find logs at: <code>./wandb/run-20250423_173153-dmigl8fc/logs</code>"
            ]
          },
          "metadata": {}
        },
        {
          "output_type": "display_data",
          "data": {
            "text/plain": [
              "<IPython.core.display.Javascript object>"
            ],
            "application/javascript": [
              "\n",
              "    async function download(id, filename, size) {\n",
              "      if (!google.colab.kernel.accessAllowed) {\n",
              "        return;\n",
              "      }\n",
              "      const div = document.createElement('div');\n",
              "      const label = document.createElement('label');\n",
              "      label.textContent = `Downloading \"${filename}\": `;\n",
              "      div.appendChild(label);\n",
              "      const progress = document.createElement('progress');\n",
              "      progress.max = size;\n",
              "      div.appendChild(progress);\n",
              "      document.body.appendChild(div);\n",
              "\n",
              "      const buffers = [];\n",
              "      let downloaded = 0;\n",
              "\n",
              "      const channel = await google.colab.kernel.comms.open(id);\n",
              "      // Send a message to notify the kernel that we're ready.\n",
              "      channel.send({})\n",
              "\n",
              "      for await (const message of channel.messages) {\n",
              "        // Send a message to notify the kernel that we're ready.\n",
              "        channel.send({})\n",
              "        if (message.buffers) {\n",
              "          for (const buffer of message.buffers) {\n",
              "            buffers.push(buffer);\n",
              "            downloaded += buffer.byteLength;\n",
              "            progress.value = downloaded;\n",
              "          }\n",
              "        }\n",
              "      }\n",
              "      const blob = new Blob(buffers, {type: 'application/binary'});\n",
              "      const a = document.createElement('a');\n",
              "      a.href = window.URL.createObjectURL(blob);\n",
              "      a.download = filename;\n",
              "      div.appendChild(a);\n",
              "      a.click();\n",
              "      div.remove();\n",
              "    }\n",
              "  "
            ]
          },
          "metadata": {}
        },
        {
          "output_type": "display_data",
          "data": {
            "text/plain": [
              "<IPython.core.display.Javascript object>"
            ],
            "application/javascript": [
              "download(\"download_5eef0dc8-90a1-4784-a306-247a23b97cec\", \"resnet18_scratch_test_preds.csv\", 1079)"
            ]
          },
          "metadata": {}
        }
      ]
    },
    {
      "cell_type": "markdown",
      "source": [
        "** ResNet18 (pretrained) Training + Inference + W&B + Download CSV **\n"
      ],
      "metadata": {
        "id": "UQxVKJdKdG9T"
      }
    },
    {
      "cell_type": "code",
      "source": [
        "\n",
        "import wandb\n",
        "from torchvision import models\n",
        "import torch.nn as nn, torch.optim as optim\n",
        "import pandas as pd\n",
        "\n",
        "wandb.init(\n",
        "    project=\"smai-assignment2\",\n",
        "    name=\"resnet18-pretrained\",\n",
        "    config={\n",
        "        \"model\": \"ResNet18-pretrained\",\n",
        "        \"epochs\": num_epochs,\n",
        "        \"batch_size\": batch_size,\n",
        "        \"learning_rate\": learning_rate\n",
        "    }\n",
        ")\n",
        "cfg = wandb.config\n",
        "\n",
        "model_rp = models.resnet18(pretrained=True)\n",
        "model_rp.fc = nn.Linear(model_rp.fc.in_features, 2)\n",
        "model_rp = model_rp.to(device)\n",
        "\n",
        "criterion = nn.CrossEntropyLoss()\n",
        "optimizer = optim.Adam(model_rp.parameters(), lr=cfg.learning_rate)\n",
        "\n",
        "wandb.watch(model_rp, log=\"all\", log_freq=10)\n",
        "\n",
        "for epoch in range(cfg.epochs):\n",
        "    tl, ta = train_epoch(model_rp, train_loader, optimizer, criterion)\n",
        "    vl, va = eval_epoch (model_rp, val_loader,   criterion)\n",
        "    print(f\"[ResNet18 Pretrained - Lakshay] Epoch {epoch+1}/{cfg.epochs}  \"\n",
        "          f\"Train loss={tl:.4f}, acc={ta:.4f} | \"\n",
        "          f\"Val   loss={vl:.4f}, acc={va:.4f}\")\n",
        "    wandb.log({\n",
        "        \"epoch\": epoch+1,\n",
        "        \"train/loss\": tl, \"train/accuracy\": ta,\n",
        "        \"val/loss\": vl,   \"val/accuracy\": va\n",
        "    })\n",
        "\n",
        "wandb.finish()\n",
        "\n",
        "model_rp.eval()\n",
        "results_rp = []\n",
        "with torch.no_grad():\n",
        "    for imgs, fnames in test_loader:\n",
        "        imgs = imgs.to(device)\n",
        "        outs = model_rp(imgs)\n",
        "        preds = outs.argmax(1).cpu()\n",
        "        for f, p in zip(fnames, preds):\n",
        "            results_rp.append({\"filename\": f, \"prediction\": full_ds.classes[p]})\n",
        "\n",
        "pd.DataFrame(results_rp).to_csv(\"resnet18_pretrained_test_preds.csv\", index=False)\n",
        "from google.colab import files\n",
        "files.download(\"resnet18_pretrained_test_preds.csv\")\n"
      ],
      "metadata": {
        "id": "Z50MBgL1b_jT",
        "colab": {
          "base_uri": "https://localhost:8080/",
          "height": 839
        },
        "outputId": "633ccf30-40be-4dc9-c2e5-5cdd3b83f152"
      },
      "execution_count": 10,
      "outputs": [
        {
          "output_type": "display_data",
          "data": {
            "text/plain": [
              "<IPython.core.display.HTML object>"
            ],
            "text/html": [
              "Tracking run with wandb version 0.19.9"
            ]
          },
          "metadata": {}
        },
        {
          "output_type": "display_data",
          "data": {
            "text/plain": [
              "<IPython.core.display.HTML object>"
            ],
            "text/html": [
              "Run data is saved locally in <code>/content/wandb/run-20250423_173411-uumlrj5g</code>"
            ]
          },
          "metadata": {}
        },
        {
          "output_type": "display_data",
          "data": {
            "text/plain": [
              "<IPython.core.display.HTML object>"
            ],
            "text/html": [
              "Syncing run <strong><a href='https://wandb.ai/lakshaybaijal-iiit-hyderabad/smai-assignment2/runs/uumlrj5g' target=\"_blank\">resnet18-pretrained</a></strong> to <a href='https://wandb.ai/lakshaybaijal-iiit-hyderabad/smai-assignment2' target=\"_blank\">Weights & Biases</a> (<a href='https://wandb.me/developer-guide' target=\"_blank\">docs</a>)<br>"
            ]
          },
          "metadata": {}
        },
        {
          "output_type": "display_data",
          "data": {
            "text/plain": [
              "<IPython.core.display.HTML object>"
            ],
            "text/html": [
              " View project at <a href='https://wandb.ai/lakshaybaijal-iiit-hyderabad/smai-assignment2' target=\"_blank\">https://wandb.ai/lakshaybaijal-iiit-hyderabad/smai-assignment2</a>"
            ]
          },
          "metadata": {}
        },
        {
          "output_type": "display_data",
          "data": {
            "text/plain": [
              "<IPython.core.display.HTML object>"
            ],
            "text/html": [
              " View run at <a href='https://wandb.ai/lakshaybaijal-iiit-hyderabad/smai-assignment2/runs/uumlrj5g' target=\"_blank\">https://wandb.ai/lakshaybaijal-iiit-hyderabad/smai-assignment2/runs/uumlrj5g</a>"
            ]
          },
          "metadata": {}
        },
        {
          "output_type": "stream",
          "name": "stderr",
          "text": [
            "/usr/local/lib/python3.11/dist-packages/torchvision/models/_utils.py:223: UserWarning: Arguments other than a weight enum or `None` for 'weights' are deprecated since 0.13 and may be removed in the future. The current behavior is equivalent to passing `weights=ResNet18_Weights.IMAGENET1K_V1`. You can also use `weights=ResNet18_Weights.DEFAULT` to get the most up-to-date weights.\n",
            "  warnings.warn(msg)\n",
            "Downloading: \"https://download.pytorch.org/models/resnet18-f37072fd.pth\" to /root/.cache/torch/hub/checkpoints/resnet18-f37072fd.pth\n",
            "100%|██████████| 44.7M/44.7M [00:00<00:00, 140MB/s]\n"
          ]
        },
        {
          "output_type": "stream",
          "name": "stdout",
          "text": [
            "[ResNet18 Pretrained - Lakshay] Epoch 1/10  Train loss=0.1313, acc=0.9453 | Val   loss=0.0060, acc=1.0000\n",
            "[ResNet18 Pretrained - Lakshay] Epoch 2/10  Train loss=0.0301, acc=0.9895 | Val   loss=0.0109, acc=1.0000\n",
            "[ResNet18 Pretrained - Lakshay] Epoch 3/10  Train loss=0.0082, acc=0.9977 | Val   loss=0.0013, acc=1.0000\n",
            "[ResNet18 Pretrained - Lakshay] Epoch 4/10  Train loss=0.0015, acc=1.0000 | Val   loss=0.0005, acc=1.0000\n",
            "[ResNet18 Pretrained - Lakshay] Epoch 5/10  Train loss=0.0015, acc=1.0000 | Val   loss=0.0004, acc=1.0000\n",
            "[ResNet18 Pretrained - Lakshay] Epoch 6/10  Train loss=0.0006, acc=1.0000 | Val   loss=0.0003, acc=1.0000\n",
            "[ResNet18 Pretrained - Lakshay] Epoch 7/10  Train loss=0.0006, acc=1.0000 | Val   loss=0.0002, acc=1.0000\n",
            "[ResNet18 Pretrained - Lakshay] Epoch 8/10  Train loss=0.0005, acc=1.0000 | Val   loss=0.0003, acc=1.0000\n",
            "[ResNet18 Pretrained - Lakshay] Epoch 9/10  Train loss=0.0494, acc=0.9860 | Val   loss=0.0029, acc=1.0000\n",
            "[ResNet18 Pretrained - Lakshay] Epoch 10/10  Train loss=0.0041, acc=0.9977 | Val   loss=0.0009, acc=1.0000\n"
          ]
        },
        {
          "output_type": "display_data",
          "data": {
            "text/plain": [
              "<IPython.core.display.HTML object>"
            ],
            "text/html": []
          },
          "metadata": {}
        },
        {
          "output_type": "display_data",
          "data": {
            "text/plain": [
              "<IPython.core.display.HTML object>"
            ],
            "text/html": [
              "<br>    <style><br>        .wandb-row {<br>            display: flex;<br>            flex-direction: row;<br>            flex-wrap: wrap;<br>            justify-content: flex-start;<br>            width: 100%;<br>        }<br>        .wandb-col {<br>            display: flex;<br>            flex-direction: column;<br>            flex-basis: 100%;<br>            flex: 1;<br>            padding: 10px;<br>        }<br>    </style><br><div class=\"wandb-row\"><div class=\"wandb-col\"><h3>Run history:</h3><br/><table class=\"wandb\"><tr><td>epoch</td><td>▁▂▃▃▄▅▆▆▇█</td></tr><tr><td>train/accuracy</td><td>▁▇██████▆█</td></tr><tr><td>train/loss</td><td>█▃▁▁▁▁▁▁▄▁</td></tr><tr><td>val/accuracy</td><td>▁▁▁▁▁▁▁▁▁▁</td></tr><tr><td>val/loss</td><td>▅█▂▁▁▁▁▁▃▁</td></tr></table><br/></div><div class=\"wandb-col\"><h3>Run summary:</h3><br/><table class=\"wandb\"><tr><td>epoch</td><td>10</td></tr><tr><td>train/accuracy</td><td>0.99767</td></tr><tr><td>train/loss</td><td>0.00409</td></tr><tr><td>val/accuracy</td><td>1</td></tr><tr><td>val/loss</td><td>0.00092</td></tr></table><br/></div></div>"
            ]
          },
          "metadata": {}
        },
        {
          "output_type": "display_data",
          "data": {
            "text/plain": [
              "<IPython.core.display.HTML object>"
            ],
            "text/html": [
              " View run <strong style=\"color:#cdcd00\">resnet18-pretrained</strong> at: <a href='https://wandb.ai/lakshaybaijal-iiit-hyderabad/smai-assignment2/runs/uumlrj5g' target=\"_blank\">https://wandb.ai/lakshaybaijal-iiit-hyderabad/smai-assignment2/runs/uumlrj5g</a><br> View project at: <a href='https://wandb.ai/lakshaybaijal-iiit-hyderabad/smai-assignment2' target=\"_blank\">https://wandb.ai/lakshaybaijal-iiit-hyderabad/smai-assignment2</a><br>Synced 5 W&B file(s), 0 media file(s), 0 artifact file(s) and 0 other file(s)"
            ]
          },
          "metadata": {}
        },
        {
          "output_type": "display_data",
          "data": {
            "text/plain": [
              "<IPython.core.display.HTML object>"
            ],
            "text/html": [
              "Find logs at: <code>./wandb/run-20250423_173411-uumlrj5g/logs</code>"
            ]
          },
          "metadata": {}
        },
        {
          "output_type": "display_data",
          "data": {
            "text/plain": [
              "<IPython.core.display.Javascript object>"
            ],
            "application/javascript": [
              "\n",
              "    async function download(id, filename, size) {\n",
              "      if (!google.colab.kernel.accessAllowed) {\n",
              "        return;\n",
              "      }\n",
              "      const div = document.createElement('div');\n",
              "      const label = document.createElement('label');\n",
              "      label.textContent = `Downloading \"${filename}\": `;\n",
              "      div.appendChild(label);\n",
              "      const progress = document.createElement('progress');\n",
              "      progress.max = size;\n",
              "      div.appendChild(progress);\n",
              "      document.body.appendChild(div);\n",
              "\n",
              "      const buffers = [];\n",
              "      let downloaded = 0;\n",
              "\n",
              "      const channel = await google.colab.kernel.comms.open(id);\n",
              "      // Send a message to notify the kernel that we're ready.\n",
              "      channel.send({})\n",
              "\n",
              "      for await (const message of channel.messages) {\n",
              "        // Send a message to notify the kernel that we're ready.\n",
              "        channel.send({})\n",
              "        if (message.buffers) {\n",
              "          for (const buffer of message.buffers) {\n",
              "            buffers.push(buffer);\n",
              "            downloaded += buffer.byteLength;\n",
              "            progress.value = downloaded;\n",
              "          }\n",
              "        }\n",
              "      }\n",
              "      const blob = new Blob(buffers, {type: 'application/binary'});\n",
              "      const a = document.createElement('a');\n",
              "      a.href = window.URL.createObjectURL(blob);\n",
              "      a.download = filename;\n",
              "      div.appendChild(a);\n",
              "      a.click();\n",
              "      div.remove();\n",
              "    }\n",
              "  "
            ]
          },
          "metadata": {}
        },
        {
          "output_type": "display_data",
          "data": {
            "text/plain": [
              "<IPython.core.display.Javascript object>"
            ],
            "application/javascript": [
              "download(\"download_341184a5-1571-4814-9a91-68c136c15457\", \"resnet18_pretrained_test_preds.csv\", 1079)"
            ]
          },
          "metadata": {}
        }
      ]
    },
    {
      "cell_type": "code",
      "source": [
        "\n",
        "import numpy as np\n",
        "from sklearn.metrics import confusion_matrix, ConfusionMatrixDisplay\n",
        "from scipy.stats import zscore\n",
        "import matplotlib.pyplot as plt\n",
        "\n",
        "def get_preds(model):\n",
        "    model.eval()\n",
        "    ys, ps = [], []\n",
        "    with torch.no_grad():\n",
        "        for imgs, lbls in val_loader:\n",
        "            imgs = imgs.to(device)\n",
        "            out  = model(imgs)\n",
        "            preds = out.argmax(1).cpu().numpy()\n",
        "            ps.extend(preds)\n",
        "            ys.extend(lbls.numpy())\n",
        "    return np.array(ys), np.array(ps)\n",
        "\n",
        "models = {\n",
        "    \"VGG16-finetune\": model,\n",
        "    \"ResNet18-scratch\": model_rs,\n",
        "    \"ResNet18-pretrained\": model_rp\n",
        "}\n",
        "\n",
        "for name, m in models.items():\n",
        "    y_true, y_pred = get_preds(m)\n",
        "    cm = confusion_matrix(y_true, y_pred)\n",
        "    zcm = zscore(cm.flatten()).reshape(cm.shape)\n",
        "\n",
        "    print(f\"\\n{name}\\nRaw Confusion Matrix:\\n{cm}\\n\")\n",
        "    print(f\"{name}\\nZ-score normalized CM:\\n{np.round(zcm, 2)}\\n\")\n",
        "\n",
        "    fig, axes = plt.subplots(1, 2, figsize=(10,4))\n",
        "    disp1 = ConfusionMatrixDisplay(cm, display_labels=full_ds.classes)\n",
        "    disp1.plot(ax=axes[0], cmap=\"Blues\", colorbar=False)\n",
        "    axes[0].set_title(f\"{name}\\nRaw CM\")\n",
        "\n",
        "    disp2 = ConfusionMatrixDisplay(zcm, display_labels=full_ds.classes)\n",
        "    disp2.plot(ax=axes[1], cmap=\"coolwarm\", colorbar=True)\n",
        "    axes[1].set_title(f\"{name}\\nZ-score CM\")\n",
        "\n",
        "    plt.tight_layout()\n",
        "    plt.show()\n"
      ],
      "metadata": {
        "id": "72Rr30eN56AQ",
        "colab": {
          "base_uri": "https://localhost:8080/",
          "height": 1000
        },
        "outputId": "64731d7b-0b0b-4857-eaa1-3498214ec783"
      },
      "execution_count": 11,
      "outputs": [
        {
          "output_type": "stream",
          "name": "stdout",
          "text": [
            "\n",
            "VGG16-finetune\n",
            "Raw Confusion Matrix:\n",
            "[[165   0]\n",
            " [  2  49]]\n",
            "\n",
            "VGG16-finetune\n",
            "Z-score normalized CM:\n",
            "[[ 1.66 -0.81]\n",
            " [-0.78 -0.07]]\n",
            "\n"
          ]
        },
        {
          "output_type": "display_data",
          "data": {
            "text/plain": [
              "<Figure size 1000x400 with 3 Axes>"
            ],
            "image/png": "[encoded data removed]"
          },
          "metadata": {}
        },
        {
          "output_type": "stream",
          "name": "stdout",
          "text": [
            "\n",
            "ResNet18-scratch\n",
            "Raw Confusion Matrix:\n",
            "[[165   0]\n",
            " [  0  51]]\n",
            "\n",
            "ResNet18-scratch\n",
            "Z-score normalized CM:\n",
            "[[ 1.65 -0.8 ]\n",
            " [-0.8  -0.04]]\n",
            "\n"
          ]
        },
        {
          "output_type": "display_data",
          "data": {
            "text/plain": [
              "<Figure size 1000x400 with 3 Axes>"
            ],
            "image/png": "[encoded data removed]"
          },
          "metadata": {}
        },
        {
          "output_type": "stream",
          "name": "stdout",
          "text": [
            "\n",
            "ResNet18-pretrained\n",
            "Raw Confusion Matrix:\n",
            "[[165   0]\n",
            " [  0  51]]\n",
            "\n",
            "ResNet18-pretrained\n",
            "Z-score normalized CM:\n",
            "[[ 1.65 -0.8 ]\n",
            " [-0.8  -0.04]]\n",
            "\n"
          ]
        },
        {
          "output_type": "display_data",
          "data": {
            "text/plain": [
              "<Figure size 1000x400 with 3 Axes>"
            ],
            "image/png": "[encoded data removed]"
          },
          "metadata": {}
        }
      ]
    },
    {
      "cell_type": "code",
      "source": [
        "# Alias your trained models to the names the helper uses:\n",
        "model_vgg     = model       # your VGG-finetuned\n",
        "model_pre     = model_rp    # your ResNet18 pretrained\n",
        "model_scratch = model_rs    # your ResNet18 from scratch\n",
        "\n",
        "# Quick sanity check\n",
        "print(\"Models in scope:\",\n",
        "      \"model_vgg\"     in globals(),\n",
        "      \"model_pre\"     in globals(),\n",
        "      \"model_scratch\" in globals())\n",
        "\n"
      ],
      "metadata": {
        "colab": {
          "base_uri": "https://localhost:8080/"
        },
        "id": "W3WgZVWkp3hM",
        "outputId": "0db555f2-3df8-47b9-ce51-e453fabe8e00"
      },
      "execution_count": 17,
      "outputs": [
        {
          "output_type": "stream",
          "name": "stdout",
          "text": [
            "Models in scope: True True True\n"
          ]
        }
      ]
    },
    {
      "cell_type": "code",
      "source": [
        "# ─────────────────────────────────────────────────────────────────────────────\n",
        "# Create “clean” model copies (no W&B hooks) and load trained weights\n",
        "# ─────────────────────────────────────────────────────────────────────────────\n",
        "import torch.nn as nn\n",
        "from torchvision import models\n",
        "\n",
        "# 1) Fresh VGG16\n",
        "vgg_clean = models.vgg16(pretrained=True)\n",
        "vgg_clean.classifier[6] = nn.Linear(vgg_clean.classifier[6].in_features, 2)\n",
        "vgg_clean.load_state_dict(model.state_dict())\n",
        "vgg_clean = vgg_clean.to(device)\n",
        "\n",
        "# 2) Fresh ResNet18 (from scratch)\n",
        "rs_clean = models.resnet18(pretrained=False)\n",
        "rs_clean.fc = nn.Linear(rs_clean.fc.in_features, 2)\n",
        "rs_clean.load_state_dict(model_rs.state_dict())\n",
        "rs_clean = rs_clean.to(device)\n",
        "\n",
        "# 3) Fresh ResNet18 (pretrained)\n",
        "rp_clean = models.resnet18(pretrained=True)\n",
        "rp_clean.fc = nn.Linear(rp_clean.fc.in_features, 2)\n",
        "rp_clean.load_state_dict(model_rp.state_dict())\n",
        "rp_clean = rp_clean.to(device)\n",
        "\n",
        "print(\"Clean models ready:\", vgg_clean, rs_clean, rp_clean)\n",
        "\n"
      ],
      "metadata": {
        "colab": {
          "base_uri": "https://localhost:8080/"
        },
        "id": "xIwOl_T6qDjF",
        "outputId": "9da79027-ca4e-4b9a-a9d0-a214cdf3d820"
      },
      "execution_count": 21,
      "outputs": [
        {
          "output_type": "stream",
          "name": "stderr",
          "text": [
            "/usr/local/lib/python3.11/dist-packages/torchvision/models/_utils.py:208: UserWarning: The parameter 'pretrained' is deprecated since 0.13 and may be removed in the future, please use 'weights' instead.\n",
            "  warnings.warn(\n",
            "/usr/local/lib/python3.11/dist-packages/torchvision/models/_utils.py:223: UserWarning: Arguments other than a weight enum or `None` for 'weights' are deprecated since 0.13 and may be removed in the future. The current behavior is equivalent to passing `weights=VGG16_Weights.IMAGENET1K_V1`. You can also use `weights=VGG16_Weights.DEFAULT` to get the most up-to-date weights.\n",
            "  warnings.warn(msg)\n",
            "/usr/local/lib/python3.11/dist-packages/torchvision/models/_utils.py:223: UserWarning: Arguments other than a weight enum or `None` for 'weights' are deprecated since 0.13 and may be removed in the future. The current behavior is equivalent to passing `weights=None`.\n",
            "  warnings.warn(msg)\n",
            "/usr/local/lib/python3.11/dist-packages/torchvision/models/_utils.py:223: UserWarning: Arguments other than a weight enum or `None` for 'weights' are deprecated since 0.13 and may be removed in the future. The current behavior is equivalent to passing `weights=ResNet18_Weights.IMAGENET1K_V1`. You can also use `weights=ResNet18_Weights.DEFAULT` to get the most up-to-date weights.\n",
            "  warnings.warn(msg)\n"
          ]
        },
        {
          "output_type": "stream",
          "name": "stdout",
          "text": [
            "Clean models ready: VGG(\n",
            "  (features): Sequential(\n",
            "    (0): Conv2d(3, 64, kernel_size=(3, 3), stride=(1, 1), padding=(1, 1))\n",
            "    (1): ReLU(inplace=True)\n",
            "    (2): Conv2d(64, 64, kernel_size=(3, 3), stride=(1, 1), padding=(1, 1))\n",
            "    (3): ReLU(inplace=True)\n",
            "    (4): MaxPool2d(kernel_size=2, stride=2, padding=0, dilation=1, ceil_mode=False)\n",
            "    (5): Conv2d(64, 128, kernel_size=(3, 3), stride=(1, 1), padding=(1, 1))\n",
            "    (6): ReLU(inplace=True)\n",
            "    (7): Conv2d(128, 128, kernel_size=(3, 3), stride=(1, 1), padding=(1, 1))\n",
            "    (8): ReLU(inplace=True)\n",
            "    (9): MaxPool2d(kernel_size=2, stride=2, padding=0, dilation=1, ceil_mode=False)\n",
            "    (10): Conv2d(128, 256, kernel_size=(3, 3), stride=(1, 1), padding=(1, 1))\n",
            "    (11): ReLU(inplace=True)\n",
            "    (12): Conv2d(256, 256, kernel_size=(3, 3), stride=(1, 1), padding=(1, 1))\n",
            "    (13): ReLU(inplace=True)\n",
            "    (14): Conv2d(256, 256, kernel_size=(3, 3), stride=(1, 1), padding=(1, 1))\n",
            "    (15): ReLU(inplace=True)\n",
            "    (16): MaxPool2d(kernel_size=2, stride=2, padding=0, dilation=1, ceil_mode=False)\n",
            "    (17): Conv2d(256, 512, kernel_size=(3, 3), stride=(1, 1), padding=(1, 1))\n",
            "    (18): ReLU(inplace=True)\n",
            "    (19): Conv2d(512, 512, kernel_size=(3, 3), stride=(1, 1), padding=(1, 1))\n",
            "    (20): ReLU(inplace=True)\n",
            "    (21): Conv2d(512, 512, kernel_size=(3, 3), stride=(1, 1), padding=(1, 1))\n",
            "    (22): ReLU(inplace=True)\n",
            "    (23): MaxPool2d(kernel_size=2, stride=2, padding=0, dilation=1, ceil_mode=False)\n",
            "    (24): Conv2d(512, 512, kernel_size=(3, 3), stride=(1, 1), padding=(1, 1))\n",
            "    (25): ReLU(inplace=True)\n",
            "    (26): Conv2d(512, 512, kernel_size=(3, 3), stride=(1, 1), padding=(1, 1))\n",
            "    (27): ReLU(inplace=True)\n",
            "    (28): Conv2d(512, 512, kernel_size=(3, 3), stride=(1, 1), padding=(1, 1))\n",
            "    (29): ReLU(inplace=True)\n",
            "    (30): MaxPool2d(kernel_size=2, stride=2, padding=0, dilation=1, ceil_mode=False)\n",
            "  )\n",
            "  (avgpool): AdaptiveAvgPool2d(output_size=(7, 7))\n",
            "  (classifier): Sequential(\n",
            "    (0): Linear(in_features=25088, out_features=4096, bias=True)\n",
            "    (1): ReLU(inplace=True)\n",
            "    (2): Dropout(p=0.5, inplace=False)\n",
            "    (3): Linear(in_features=4096, out_features=4096, bias=True)\n",
            "    (4): ReLU(inplace=True)\n",
            "    (5): Dropout(p=0.5, inplace=False)\n",
            "    (6): Linear(in_features=4096, out_features=2, bias=True)\n",
            "  )\n",
            ") ResNet(\n",
            "  (conv1): Conv2d(3, 64, kernel_size=(7, 7), stride=(2, 2), padding=(3, 3), bias=False)\n",
            "  (bn1): BatchNorm2d(64, eps=1e-05, momentum=0.1, affine=True, track_running_stats=True)\n",
            "  (relu): ReLU(inplace=True)\n",
            "  (maxpool): MaxPool2d(kernel_size=3, stride=2, padding=1, dilation=1, ceil_mode=False)\n",
            "  (layer1): Sequential(\n",
            "    (0): BasicBlock(\n",
            "      (conv1): Conv2d(64, 64, kernel_size=(3, 3), stride=(1, 1), padding=(1, 1), bias=False)\n",
            "      (bn1): BatchNorm2d(64, eps=1e-05, momentum=0.1, affine=True, track_running_stats=True)\n",
            "      (relu): ReLU(inplace=True)\n",
            "      (conv2): Conv2d(64, 64, kernel_size=(3, 3), stride=(1, 1), padding=(1, 1), bias=False)\n",
            "      (bn2): BatchNorm2d(64, eps=1e-05, momentum=0.1, affine=True, track_running_stats=True)\n",
            "    )\n",
            "    (1): BasicBlock(\n",
            "      (conv1): Conv2d(64, 64, kernel_size=(3, 3), stride=(1, 1), padding=(1, 1), bias=False)\n",
            "      (bn1): BatchNorm2d(64, eps=1e-05, momentum=0.1, affine=True, track_running_stats=True)\n",
            "      (relu): ReLU(inplace=True)\n",
            "      (conv2): Conv2d(64, 64, kernel_size=(3, 3), stride=(1, 1), padding=(1, 1), bias=False)\n",
            "      (bn2): BatchNorm2d(64, eps=1e-05, momentum=0.1, affine=True, track_running_stats=True)\n",
            "    )\n",
            "  )\n",
            "  (layer2): Sequential(\n",
            "    (0): BasicBlock(\n",
            "      (conv1): Conv2d(64, 128, kernel_size=(3, 3), stride=(2, 2), padding=(1, 1), bias=False)\n",
            "      (bn1): BatchNorm2d(128, eps=1e-05, momentum=0.1, affine=True, track_running_stats=True)\n",
            "      (relu): ReLU(inplace=True)\n",
            "      (conv2): Conv2d(128, 128, kernel_size=(3, 3), stride=(1, 1), padding=(1, 1), bias=False)\n",
            "      (bn2): BatchNorm2d(128, eps=1e-05, momentum=0.1, affine=True, track_running_stats=True)\n",
            "      (downsample): Sequential(\n",
            "        (0): Conv2d(64, 128, kernel_size=(1, 1), stride=(2, 2), bias=False)\n",
            "        (1): BatchNorm2d(128, eps=1e-05, momentum=0.1, affine=True, track_running_stats=True)\n",
            "      )\n",
            "    )\n",
            "    (1): BasicBlock(\n",
            "      (conv1): Conv2d(128, 128, kernel_size=(3, 3), stride=(1, 1), padding=(1, 1), bias=False)\n",
            "      (bn1): BatchNorm2d(128, eps=1e-05, momentum=0.1, affine=True, track_running_stats=True)\n",
            "      (relu): ReLU(inplace=True)\n",
            "      (conv2): Conv2d(128, 128, kernel_size=(3, 3), stride=(1, 1), padding=(1, 1), bias=False)\n",
            "      (bn2): BatchNorm2d(128, eps=1e-05, momentum=0.1, affine=True, track_running_stats=True)\n",
            "    )\n",
            "  )\n",
            "  (layer3): Sequential(\n",
            "    (0): BasicBlock(\n",
            "      (conv1): Conv2d(128, 256, kernel_size=(3, 3), stride=(2, 2), padding=(1, 1), bias=False)\n",
            "      (bn1): BatchNorm2d(256, eps=1e-05, momentum=0.1, affine=True, track_running_stats=True)\n",
            "      (relu): ReLU(inplace=True)\n",
            "      (conv2): Conv2d(256, 256, kernel_size=(3, 3), stride=(1, 1), padding=(1, 1), bias=False)\n",
            "      (bn2): BatchNorm2d(256, eps=1e-05, momentum=0.1, affine=True, track_running_stats=True)\n",
            "      (downsample): Sequential(\n",
            "        (0): Conv2d(128, 256, kernel_size=(1, 1), stride=(2, 2), bias=False)\n",
            "        (1): BatchNorm2d(256, eps=1e-05, momentum=0.1, affine=True, track_running_stats=True)\n",
            "      )\n",
            "    )\n",
            "    (1): BasicBlock(\n",
            "      (conv1): Conv2d(256, 256, kernel_size=(3, 3), stride=(1, 1), padding=(1, 1), bias=False)\n",
            "      (bn1): BatchNorm2d(256, eps=1e-05, momentum=0.1, affine=True, track_running_stats=True)\n",
            "      (relu): ReLU(inplace=True)\n",
            "      (conv2): Conv2d(256, 256, kernel_size=(3, 3), stride=(1, 1), padding=(1, 1), bias=False)\n",
            "      (bn2): BatchNorm2d(256, eps=1e-05, momentum=0.1, affine=True, track_running_stats=True)\n",
            "    )\n",
            "  )\n",
            "  (layer4): Sequential(\n",
            "    (0): BasicBlock(\n",
            "      (conv1): Conv2d(256, 512, kernel_size=(3, 3), stride=(2, 2), padding=(1, 1), bias=False)\n",
            "      (bn1): BatchNorm2d(512, eps=1e-05, momentum=0.1, affine=True, track_running_stats=True)\n",
            "      (relu): ReLU(inplace=True)\n",
            "      (conv2): Conv2d(512, 512, kernel_size=(3, 3), stride=(1, 1), padding=(1, 1), bias=False)\n",
            "      (bn2): BatchNorm2d(512, eps=1e-05, momentum=0.1, affine=True, track_running_stats=True)\n",
            "      (downsample): Sequential(\n",
            "        (0): Conv2d(256, 512, kernel_size=(1, 1), stride=(2, 2), bias=False)\n",
            "        (1): BatchNorm2d(512, eps=1e-05, momentum=0.1, affine=True, track_running_stats=True)\n",
            "      )\n",
            "    )\n",
            "    (1): BasicBlock(\n",
            "      (conv1): Conv2d(512, 512, kernel_size=(3, 3), stride=(1, 1), padding=(1, 1), bias=False)\n",
            "      (bn1): BatchNorm2d(512, eps=1e-05, momentum=0.1, affine=True, track_running_stats=True)\n",
            "      (relu): ReLU(inplace=True)\n",
            "      (conv2): Conv2d(512, 512, kernel_size=(3, 3), stride=(1, 1), padding=(1, 1), bias=False)\n",
            "      (bn2): BatchNorm2d(512, eps=1e-05, momentum=0.1, affine=True, track_running_stats=True)\n",
            "    )\n",
            "  )\n",
            "  (avgpool): AdaptiveAvgPool2d(output_size=(1, 1))\n",
            "  (fc): Linear(in_features=512, out_features=2, bias=True)\n",
            ") ResNet(\n",
            "  (conv1): Conv2d(3, 64, kernel_size=(7, 7), stride=(2, 2), padding=(3, 3), bias=False)\n",
            "  (bn1): BatchNorm2d(64, eps=1e-05, momentum=0.1, affine=True, track_running_stats=True)\n",
            "  (relu): ReLU(inplace=True)\n",
            "  (maxpool): MaxPool2d(kernel_size=3, stride=2, padding=1, dilation=1, ceil_mode=False)\n",
            "  (layer1): Sequential(\n",
            "    (0): BasicBlock(\n",
            "      (conv1): Conv2d(64, 64, kernel_size=(3, 3), stride=(1, 1), padding=(1, 1), bias=False)\n",
            "      (bn1): BatchNorm2d(64, eps=1e-05, momentum=0.1, affine=True, track_running_stats=True)\n",
            "      (relu): ReLU(inplace=True)\n",
            "      (conv2): Conv2d(64, 64, kernel_size=(3, 3), stride=(1, 1), padding=(1, 1), bias=False)\n",
            "      (bn2): BatchNorm2d(64, eps=1e-05, momentum=0.1, affine=True, track_running_stats=True)\n",
            "    )\n",
            "    (1): BasicBlock(\n",
            "      (conv1): Conv2d(64, 64, kernel_size=(3, 3), stride=(1, 1), padding=(1, 1), bias=False)\n",
            "      (bn1): BatchNorm2d(64, eps=1e-05, momentum=0.1, affine=True, track_running_stats=True)\n",
            "      (relu): ReLU(inplace=True)\n",
            "      (conv2): Conv2d(64, 64, kernel_size=(3, 3), stride=(1, 1), padding=(1, 1), bias=False)\n",
            "      (bn2): BatchNorm2d(64, eps=1e-05, momentum=0.1, affine=True, track_running_stats=True)\n",
            "    )\n",
            "  )\n",
            "  (layer2): Sequential(\n",
            "    (0): BasicBlock(\n",
            "      (conv1): Conv2d(64, 128, kernel_size=(3, 3), stride=(2, 2), padding=(1, 1), bias=False)\n",
            "      (bn1): BatchNorm2d(128, eps=1e-05, momentum=0.1, affine=True, track_running_stats=True)\n",
            "      (relu): ReLU(inplace=True)\n",
            "      (conv2): Conv2d(128, 128, kernel_size=(3, 3), stride=(1, 1), padding=(1, 1), bias=False)\n",
            "      (bn2): BatchNorm2d(128, eps=1e-05, momentum=0.1, affine=True, track_running_stats=True)\n",
            "      (downsample): Sequential(\n",
            "        (0): Conv2d(64, 128, kernel_size=(1, 1), stride=(2, 2), bias=False)\n",
            "        (1): BatchNorm2d(128, eps=1e-05, momentum=0.1, affine=True, track_running_stats=True)\n",
            "      )\n",
            "    )\n",
            "    (1): BasicBlock(\n",
            "      (conv1): Conv2d(128, 128, kernel_size=(3, 3), stride=(1, 1), padding=(1, 1), bias=False)\n",
            "      (bn1): BatchNorm2d(128, eps=1e-05, momentum=0.1, affine=True, track_running_stats=True)\n",
            "      (relu): ReLU(inplace=True)\n",
            "      (conv2): Conv2d(128, 128, kernel_size=(3, 3), stride=(1, 1), padding=(1, 1), bias=False)\n",
            "      (bn2): BatchNorm2d(128, eps=1e-05, momentum=0.1, affine=True, track_running_stats=True)\n",
            "    )\n",
            "  )\n",
            "  (layer3): Sequential(\n",
            "    (0): BasicBlock(\n",
            "      (conv1): Conv2d(128, 256, kernel_size=(3, 3), stride=(2, 2), padding=(1, 1), bias=False)\n",
            "      (bn1): BatchNorm2d(256, eps=1e-05, momentum=0.1, affine=True, track_running_stats=True)\n",
            "      (relu): ReLU(inplace=True)\n",
            "      (conv2): Conv2d(256, 256, kernel_size=(3, 3), stride=(1, 1), padding=(1, 1), bias=False)\n",
            "      (bn2): BatchNorm2d(256, eps=1e-05, momentum=0.1, affine=True, track_running_stats=True)\n",
            "      (downsample): Sequential(\n",
            "        (0): Conv2d(128, 256, kernel_size=(1, 1), stride=(2, 2), bias=False)\n",
            "        (1): BatchNorm2d(256, eps=1e-05, momentum=0.1, affine=True, track_running_stats=True)\n",
            "      )\n",
            "    )\n",
            "    (1): BasicBlock(\n",
            "      (conv1): Conv2d(256, 256, kernel_size=(3, 3), stride=(1, 1), padding=(1, 1), bias=False)\n",
            "      (bn1): BatchNorm2d(256, eps=1e-05, momentum=0.1, affine=True, track_running_stats=True)\n",
            "      (relu): ReLU(inplace=True)\n",
            "      (conv2): Conv2d(256, 256, kernel_size=(3, 3), stride=(1, 1), padding=(1, 1), bias=False)\n",
            "      (bn2): BatchNorm2d(256, eps=1e-05, momentum=0.1, affine=True, track_running_stats=True)\n",
            "    )\n",
            "  )\n",
            "  (layer4): Sequential(\n",
            "    (0): BasicBlock(\n",
            "      (conv1): Conv2d(256, 512, kernel_size=(3, 3), stride=(2, 2), padding=(1, 1), bias=False)\n",
            "      (bn1): BatchNorm2d(512, eps=1e-05, momentum=0.1, affine=True, track_running_stats=True)\n",
            "      (relu): ReLU(inplace=True)\n",
            "      (conv2): Conv2d(512, 512, kernel_size=(3, 3), stride=(1, 1), padding=(1, 1), bias=False)\n",
            "      (bn2): BatchNorm2d(512, eps=1e-05, momentum=0.1, affine=True, track_running_stats=True)\n",
            "      (downsample): Sequential(\n",
            "        (0): Conv2d(256, 512, kernel_size=(1, 1), stride=(2, 2), bias=False)\n",
            "        (1): BatchNorm2d(512, eps=1e-05, momentum=0.1, affine=True, track_running_stats=True)\n",
            "      )\n",
            "    )\n",
            "    (1): BasicBlock(\n",
            "      (conv1): Conv2d(512, 512, kernel_size=(3, 3), stride=(1, 1), padding=(1, 1), bias=False)\n",
            "      (bn1): BatchNorm2d(512, eps=1e-05, momentum=0.1, affine=True, track_running_stats=True)\n",
            "      (relu): ReLU(inplace=True)\n",
            "      (conv2): Conv2d(512, 512, kernel_size=(3, 3), stride=(1, 1), padding=(1, 1), bias=False)\n",
            "      (bn2): BatchNorm2d(512, eps=1e-05, momentum=0.1, affine=True, track_running_stats=True)\n",
            "    )\n",
            "  )\n",
            "  (avgpool): AdaptiveAvgPool2d(output_size=(1, 1))\n",
            "  (fc): Linear(in_features=512, out_features=2, bias=True)\n",
            ")\n"
          ]
        }
      ]
    },
    {
      "cell_type": "code",
      "source": [
        "# ─────────────────────────────────────────────────────────────────────────────\n",
        "# Generate the 3 face‐recognition videos with “clean” models\n",
        "# ─────────────────────────────────────────────────────────────────────────────\n",
        "make_face_video(\n",
        "    vgg_clean,      # fresh VGG\n",
        "    full_ds.classes,\n",
        "    test_dir,\n",
        "    'vgg_face_recognition.mp4',\n",
        "    val_tfms,\n",
        "    device\n",
        ")\n",
        "\n",
        "make_face_video(\n",
        "    rp_clean,       # fresh ResNet pretrained\n",
        "    full_ds.classes,\n",
        "    test_dir,\n",
        "    'resnet18_pretrained_face.mp4',\n",
        "    val_tfms,\n",
        "    device\n",
        ")\n",
        "\n",
        "make_face_video(\n",
        "    rs_clean,       # fresh ResNet scratch\n",
        "    full_ds.classes,\n",
        "    test_dir,\n",
        "    'resnet18_scratch_face.mp4',\n",
        "    val_tfms,\n",
        "    device\n",
        ")\n"
      ],
      "metadata": {
        "colab": {
          "base_uri": "https://localhost:8080/"
        },
        "id": "ihepxGllqjWg",
        "outputId": "b685b2b9-4c46-4a65-8c7d-f9cdaa9aed6c"
      },
      "execution_count": 22,
      "outputs": [
        {
          "output_type": "stream",
          "name": "stdout",
          "text": [
            "✅ Saved vgg_face_recognition.mp4\n",
            "✅ Saved resnet18_pretrained_face.mp4\n",
            "✅ Saved resnet18_scratch_face.mp4\n"
          ]
        }
      ]
    },
    {
      "cell_type": "code",
      "source": [
        "from google.colab import files\n",
        "files.download('vgg_face_recognition.mp4')\n",
        "files.download('resnet18_pretrained_face.mp4')\n",
        "files.download('resnet18_scratch_face.mp4')\n"
      ],
      "metadata": {
        "colab": {
          "base_uri": "https://localhost:8080/",
          "height": 17
        },
        "id": "Gi2Rj7H-xyFM",
        "outputId": "5264afe9-5669-41e3-d65f-3b46812249f1"
      },
      "execution_count": 23,
      "outputs": [
        {
          "output_type": "display_data",
          "data": {
            "text/plain": [
              "<IPython.core.display.Javascript object>"
            ],
            "application/javascript": [
              "\n",
              "    async function download(id, filename, size) {\n",
              "      if (!google.colab.kernel.accessAllowed) {\n",
              "        return;\n",
              "      }\n",
              "      const div = document.createElement('div');\n",
              "      const label = document.createElement('label');\n",
              "      label.textContent = `Downloading \"${filename}\": `;\n",
              "      div.appendChild(label);\n",
              "      const progress = document.createElement('progress');\n",
              "      progress.max = size;\n",
              "      div.appendChild(progress);\n",
              "      document.body.appendChild(div);\n",
              "\n",
              "      const buffers = [];\n",
              "      let downloaded = 0;\n",
              "\n",
              "      const channel = await google.colab.kernel.comms.open(id);\n",
              "      // Send a message to notify the kernel that we're ready.\n",
              "      channel.send({})\n",
              "\n",
              "      for await (const message of channel.messages) {\n",
              "        // Send a message to notify the kernel that we're ready.\n",
              "        channel.send({})\n",
              "        if (message.buffers) {\n",
              "          for (const buffer of message.buffers) {\n",
              "            buffers.push(buffer);\n",
              "            downloaded += buffer.byteLength;\n",
              "            progress.value = downloaded;\n",
              "          }\n",
              "        }\n",
              "      }\n",
              "      const blob = new Blob(buffers, {type: 'application/binary'});\n",
              "      const a = document.createElement('a');\n",
              "      a.href = window.URL.createObjectURL(blob);\n",
              "      a.download = filename;\n",
              "      div.appendChild(a);\n",
              "      a.click();\n",
              "      div.remove();\n",
              "    }\n",
              "  "
            ]
          },
          "metadata": {}
        },
        {
          "output_type": "display_data",
          "data": {
            "text/plain": [
              "<IPython.core.display.Javascript object>"
            ],
            "application/javascript": [
              "download(\"download_68ad9638-7716-4200-af5e-88c446c69d6c\", \"vgg_face_recognition.mp4\", 289120)"
            ]
          },
          "metadata": {}
        },
        {
          "output_type": "display_data",
          "data": {
            "text/plain": [
              "<IPython.core.display.Javascript object>"
            ],
            "application/javascript": [
              "\n",
              "    async function download(id, filename, size) {\n",
              "      if (!google.colab.kernel.accessAllowed) {\n",
              "        return;\n",
              "      }\n",
              "      const div = document.createElement('div');\n",
              "      const label = document.createElement('label');\n",
              "      label.textContent = `Downloading \"${filename}\": `;\n",
              "      div.appendChild(label);\n",
              "      const progress = document.createElement('progress');\n",
              "      progress.max = size;\n",
              "      div.appendChild(progress);\n",
              "      document.body.appendChild(div);\n",
              "\n",
              "      const buffers = [];\n",
              "      let downloaded = 0;\n",
              "\n",
              "      const channel = await google.colab.kernel.comms.open(id);\n",
              "      // Send a message to notify the kernel that we're ready.\n",
              "      channel.send({})\n",
              "\n",
              "      for await (const message of channel.messages) {\n",
              "        // Send a message to notify the kernel that we're ready.\n",
              "        channel.send({})\n",
              "        if (message.buffers) {\n",
              "          for (const buffer of message.buffers) {\n",
              "            buffers.push(buffer);\n",
              "            downloaded += buffer.byteLength;\n",
              "            progress.value = downloaded;\n",
              "          }\n",
              "        }\n",
              "      }\n",
              "      const blob = new Blob(buffers, {type: 'application/binary'});\n",
              "      const a = document.createElement('a');\n",
              "      a.href = window.URL.createObjectURL(blob);\n",
              "      a.download = filename;\n",
              "      div.appendChild(a);\n",
              "      a.click();\n",
              "      div.remove();\n",
              "    }\n",
              "  "
            ]
          },
          "metadata": {}
        },
        {
          "output_type": "display_data",
          "data": {
            "text/plain": [
              "<IPython.core.display.Javascript object>"
            ],
            "application/javascript": [
              "download(\"download_e745141e-c11f-4956-8189-d9ef779b909f\", \"resnet18_pretrained_face.mp4\", 289120)"
            ]
          },
          "metadata": {}
        },
        {
          "output_type": "display_data",
          "data": {
            "text/plain": [
              "<IPython.core.display.Javascript object>"
            ],
            "application/javascript": [
              "\n",
              "    async function download(id, filename, size) {\n",
              "      if (!google.colab.kernel.accessAllowed) {\n",
              "        return;\n",
              "      }\n",
              "      const div = document.createElement('div');\n",
              "      const label = document.createElement('label');\n",
              "      label.textContent = `Downloading \"${filename}\": `;\n",
              "      div.appendChild(label);\n",
              "      const progress = document.createElement('progress');\n",
              "      progress.max = size;\n",
              "      div.appendChild(progress);\n",
              "      document.body.appendChild(div);\n",
              "\n",
              "      const buffers = [];\n",
              "      let downloaded = 0;\n",
              "\n",
              "      const channel = await google.colab.kernel.comms.open(id);\n",
              "      // Send a message to notify the kernel that we're ready.\n",
              "      channel.send({})\n",
              "\n",
              "      for await (const message of channel.messages) {\n",
              "        // Send a message to notify the kernel that we're ready.\n",
              "        channel.send({})\n",
              "        if (message.buffers) {\n",
              "          for (const buffer of message.buffers) {\n",
              "            buffers.push(buffer);\n",
              "            downloaded += buffer.byteLength;\n",
              "            progress.value = downloaded;\n",
              "          }\n",
              "        }\n",
              "      }\n",
              "      const blob = new Blob(buffers, {type: 'application/binary'});\n",
              "      const a = document.createElement('a');\n",
              "      a.href = window.URL.createObjectURL(blob);\n",
              "      a.download = filename;\n",
              "      div.appendChild(a);\n",
              "      a.click();\n",
              "      div.remove();\n",
              "    }\n",
              "  "
            ]
          },
          "metadata": {}
        },
        {
          "output_type": "display_data",
          "data": {
            "text/plain": [
              "<IPython.core.display.Javascript object>"
            ],
            "application/javascript": [
              "download(\"download_81aa7247-efee-4118-95ff-d587bed710fb\", \"resnet18_scratch_face.mp4\", 289120)"
            ]
          },
          "metadata": {}
        }
      ]
    },
    {
      "cell_type": "markdown",
      "source": [],
      "metadata": {
        "id": "XW-vodQaqjDp"
      }
    }
  ]
}